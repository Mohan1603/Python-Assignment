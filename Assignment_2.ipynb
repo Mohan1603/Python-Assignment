{
  "nbformat": 4,
  "nbformat_minor": 0,
  "metadata": {
    "colab": {
      "name": "Assignment_2",
      "provenance": []
    },
    "kernelspec": {
      "name": "python3",
      "display_name": "Python 3"
    }
  },
  "cells": [
    {
      "cell_type": "markdown",
      "metadata": {
        "id": "lPOpeCs3zS9p"
      },
      "source": [
        "1.\tCreate the below pattern using nested for loop in Python.\r\n",
        "  \r\n",
        " \r\n",
        " \t* \r\n",
        "*\t* \r\n",
        "*\t* * \r\n",
        "*\t* * * \r\n",
        "*\t* * * * \r\n",
        "*\t* * * \r\n",
        "*\t* * \r\n",
        "*\t* \r\n",
        "* \r\n",
        "\r\n"
      ]
    },
    {
      "cell_type": "code",
      "metadata": {
        "colab": {
          "base_uri": "https://localhost:8080/"
        },
        "id": "j3nfAHxSz_bu",
        "outputId": "e000989a-5dbd-43ef-fdd5-6bd123ffe913"
      },
      "source": [
        "def pattern(n):\r\n",
        "    for i in range(0,5):\r\n",
        "        for j in range(0,i+1):\r\n",
        "            print(\"* \", end=\"\")\r\n",
        "        print(\"\\r\")\r\n",
        "    for i in range(n,0,-1):    \r\n",
        "        for j in range(5,i+1):\r\n",
        "            print(\"* \", end=\"\")\r\n",
        "        print(\"\\r\")    \r\n",
        "n=10\r\n",
        "pattern(n)\r\n"
      ],
      "execution_count": 1,
      "outputs": [
        {
          "output_type": "stream",
          "text": [
            "* \r\n",
            "* * \r\n",
            "* * * \r\n",
            "* * * * \r\n",
            "* * * * * \r\n",
            "* * * * * * \r\n",
            "* * * * * \r\n",
            "* * * * \r\n",
            "* * * \r\n",
            "* * \r\n",
            "* \r\n",
            "\r\n",
            "\r\n",
            "\r\n",
            "\r\n"
          ],
          "name": "stdout"
        }
      ]
    },
    {
      "cell_type": "markdown",
      "metadata": {
        "id": "Dq8txMO-0nmq"
      },
      "source": [
        "2.\tWrite a Python program to reverse a word after accepting the input from the user."
      ]
    },
    {
      "cell_type": "code",
      "metadata": {
        "colab": {
          "base_uri": "https://localhost:8080/",
          "height": 53
        },
        "id": "dax8o6t-0s_w",
        "outputId": "f3e5fd25-4d54-484b-81a9-a22c93fba056"
      },
      "source": [
        "user_name=input(\"Enter the name: \")\r\n",
        "user_name[::-1]"
      ],
      "execution_count": 2,
      "outputs": [
        {
          "output_type": "stream",
          "text": [
            "Enter the name: ineuron\n"
          ],
          "name": "stdout"
        },
        {
          "output_type": "execute_result",
          "data": {
            "application/vnd.google.colaboratory.intrinsic+json": {
              "type": "string"
            },
            "text/plain": [
              "'norueni'"
            ]
          },
          "metadata": {
            "tags": []
          },
          "execution_count": 2
        }
      ]
    }
  ]
}