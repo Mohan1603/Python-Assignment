{
  "nbformat": 4,
  "nbformat_minor": 0,
  "metadata": {
    "colab": {
      "name": "Assignment_1",
      "provenance": []
    },
    "kernelspec": {
      "name": "python3",
      "display_name": "Python 3"
    },
    "accelerator": "GPU"
  },
  "cells": [
    {
      "cell_type": "markdown",
      "metadata": {
        "id": "xm8ngkGD9a1U"
      },
      "source": [
        "1.\tWrite a program which will find all such numbers which are divisible by 7 but are not amultiple of 5, between 2000 and 3200 (both included). The numbers obtained should be printed in a comma-separated sequence on a single line. "
      ]
    },
    {
      "cell_type": "code",
      "metadata": {
        "colab": {
          "base_uri": "https://localhost:8080/",
          "height": 122
        },
        "id": "ha40bmvQUUbn",
        "outputId": "abdf8d8c-42c5-4540-e77c-e03f4e56fd81"
      },
      "source": [
        "a=list(range(2000,3201,7))\r\n",
        "for i in a:\r\n",
        "    if i%5==0:\r\n",
        "        a.remove(i)\r\n",
        "str(a) "
      ],
      "execution_count": null,
      "outputs": [
        {
          "output_type": "execute_result",
          "data": {
            "application/vnd.google.colaboratory.intrinsic+json": {
              "type": "string"
            },
            "text/plain": [
              "'[2007, 2014, 2021, 2028, 2042, 2049, 2056, 2063, 2077, 2084, 2091, 2098, 2112, 2119, 2126, 2133, 2147, 2154, 2161, 2168, 2182, 2189, 2196, 2203, 2217, 2224, 2231, 2238, 2252, 2259, 2266, 2273, 2287, 2294, 2301, 2308, 2322, 2329, 2336, 2343, 2357, 2364, 2371, 2378, 2392, 2399, 2406, 2413, 2427, 2434, 2441, 2448, 2462, 2469, 2476, 2483, 2497, 2504, 2511, 2518, 2532, 2539, 2546, 2553, 2567, 2574, 2581, 2588, 2602, 2609, 2616, 2623, 2637, 2644, 2651, 2658, 2672, 2679, 2686, 2693, 2707, 2714, 2721, 2728, 2742, 2749, 2756, 2763, 2777, 2784, 2791, 2798, 2812, 2819, 2826, 2833, 2847, 2854, 2861, 2868, 2882, 2889, 2896, 2903, 2917, 2924, 2931, 2938, 2952, 2959, 2966, 2973, 2987, 2994, 3001, 3008, 3022, 3029, 3036, 3043, 3057, 3064, 3071, 3078, 3092, 3099, 3106, 3113, 3127, 3134, 3141, 3148, 3162, 3169, 3176, 3183, 3197]'"
            ]
          },
          "metadata": {
            "tags": []
          },
          "execution_count": 1
        }
      ]
    },
    {
      "cell_type": "markdown",
      "metadata": {
        "id": "nVob7IJ99hcT"
      },
      "source": [
        "2.\tWrite a Python program to accept the user's first and last name and then getting themprinted in the the reverse order with a space between first name and last name. "
      ]
    },
    {
      "cell_type": "code",
      "metadata": {
        "colab": {
          "base_uri": "https://localhost:8080/",
          "height": 70
        },
        "id": "YXWCSR1PUYh3",
        "outputId": "67b20476-3ef5-4b6f-b79b-bc5af41d9ac0"
      },
      "source": [
        "first_name=input(\"Enter your firstname: \")\r\n",
        "last_name=input(\"Enter your lastname: \")\r\n",
        "user_name=first_name+' '+last_name\r\n",
        "user_name[::-1]"
      ],
      "execution_count": null,
      "outputs": [
        {
          "output_type": "stream",
          "text": [
            "Enter your firstname: Mohan\n",
            "Enter your lastname: Kumar\n"
          ],
          "name": "stdout"
        },
        {
          "output_type": "execute_result",
          "data": {
            "application/vnd.google.colaboratory.intrinsic+json": {
              "type": "string"
            },
            "text/plain": [
              "'ramuK nahoM'"
            ]
          },
          "metadata": {
            "tags": []
          },
          "execution_count": 2
        }
      ]
    },
    {
      "cell_type": "markdown",
      "metadata": {
        "id": "7gkOMWsUzrGY"
      },
      "source": [
        "3.\tWrite a Python program to find the volume of a sphere with diameter 12 cm.\r\n",
        "Formula: V=4/3 * π * r \r\n"
      ]
    },
    {
      "cell_type": "code",
      "metadata": {
        "colab": {
          "base_uri": "https://localhost:8080/"
        },
        "id": "nz9wbQFI5fu0",
        "outputId": "6de87d7f-bcdb-4cc7-c7b0-b0f269abc5db"
      },
      "source": [
        "import math\r\n",
        "radius=int(input(\"Enter the radius of sphere: \"))\r\n",
        "r=radius\r\n",
        "volume=4/3 * math.pi * r * r * r\r\n",
        "print(volume)"
      ],
      "execution_count": null,
      "outputs": [
        {
          "output_type": "stream",
          "text": [
            "Enter the radius of sphere: 5\n",
            "523.5987755982989\n"
          ],
          "name": "stdout"
        }
      ]
    }
  ]
}